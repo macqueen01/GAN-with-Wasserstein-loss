{
 "cells": [
  {
   "cell_type": "code",
   "execution_count": null,
   "metadata": {},
   "outputs": [],
   "source": [
    "import sys, os\n",
    "sys.path.append(os.pardir)\n",
    "from GANclass import GAN\n",
    "import numpy as np\n",
    "import matplotlib.pyplot as plt\n",
    "import tensorflow as tf"
   ]
  },
  {
   "cell_type": "code",
   "execution_count": null,
   "metadata": {},
   "outputs": [],
   "source": [
    "# build a class and preset the values\n",
    "wgan = GAN(input_dim = (32,32,3),\n",
    "       discriminator_conv_filters = [64,64,128,128],\n",
    "       discriminator_conv_kernel_size = [5,5,5,5],\n",
    "       discriminator_conv_strides = [2,2,2,1],\n",
    "       discriminator_batch_normal_momentum = None,\n",
    "       discriminator_activation = 'relu',\n",
    "       discriminator_dropout_rate = .4,\n",
    "       discriminator_learning_rate = .0008,\n",
    "       generator_conv_filters = [128,64,64,3],\n",
    "       generator_conv_kernel_size = [5,5,5,5],\n",
    "       generator_conv_strides = [1,1,1,1],\n",
    "       generator_batch_normal_momentum = .9,\n",
    "       generator_activation = 'relu',\n",
    "       generator_dropout_rate = None,\n",
    "       generator_learning_rate = .0004,\n",
    "       generator_initial_dense_size = (8,8,64),\n",
    "       generator_upscale = [2,2,1,1],\n",
    "       optimizer = 'rmsprop', z_dim = 100, WGAN = True #if you want original GAN, set the value 'False')"
   ]
  },
  {
   "cell_type": "code",
   "execution_count": null,
   "metadata": {},
   "outputs": [],
   "source": [
    "wgan.build_discriminator()"
   ]
  },
  {
   "cell_type": "code",
   "execution_count": null,
   "metadata": {},
   "outputs": [],
   "source": [
    "wgan.build_generator()"
   ]
  },
  {
   "cell_type": "code",
   "execution_count": null,
   "metadata": {},
   "outputs": [],
   "source": [
    "wgan.compile()"
   ]
  },
  {
   "cell_type": "code",
   "execution_count": null,
   "metadata": {},
   "outputs": [],
   "source": [
    "d_loss, g_loss = wgan.train(x_train #you have to preprocess the image\n",
    "                            , epochs = 6000, batch_size = 128, clip_threshold = .01, n_critic = 5)"
   ]
  }
 ],
 "metadata": {
  "kernelspec": {
   "display_name": "Python 3",
   "language": "python",
   "name": "python3"
  },
  "language_info": {
   "codemirror_mode": {
    "name": "ipython",
    "version": 3
   },
   "file_extension": ".py",
   "mimetype": "text/x-python",
   "name": "python",
   "nbconvert_exporter": "python",
   "pygments_lexer": "ipython3",
   "version": "3.6.9"
  }
 },
 "nbformat": 4,
 "nbformat_minor": 2
}
